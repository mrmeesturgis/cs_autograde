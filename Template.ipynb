{
 "cells": [
  {
   "cell_type": "markdown",
   "id": "d8bba665",
   "metadata": {},
   "source": [
    "<img src=\"https://www.sturgischarterschool.com/wp-content/uploads/2019/06/sturgisheader_logo.png\" alt=\"sturgis\" width=\"250\" align=\"right\"/>\n",
    "\n",
    "## Computer Science 'Autograde' notebook 1\n",
    "### Sturgis Charter Public School \n",
    "\n"
   ]
  },
  {
   "cell_type": "markdown",
   "id": "681696fb",
   "metadata": {},
   "source": [
    "Student: [your name here]\n",
    "\n",
    "Collaborators: [N/A]\n",
    "\n",
    "Notes to the teacher: [N/A]"
   ]
  },
  {
   "cell_type": "markdown",
   "id": "16bf0839",
   "metadata": {},
   "source": [
    "### Learning Objectives for notebook \n",
    "* objective\n",
    "* objective\n",
    "* objective"
   ]
  },
  {
   "cell_type": "code",
   "execution_count": 1,
   "id": "fb3eb272",
   "metadata": {},
   "outputs": [],
   "source": [
    "tester = range(0,10)\n"
   ]
  },
  {
   "cell_type": "code",
   "execution_count": 2,
   "id": "f9eb3bbc",
   "metadata": {},
   "outputs": [],
   "source": [
    "assert tester[3] == 3"
   ]
  },
  {
   "cell_type": "code",
   "execution_count": 3,
   "id": "e262a19a",
   "metadata": {},
   "outputs": [],
   "source": [
    "assert tester[8] == 8"
   ]
  },
  {
   "cell_type": "code",
   "execution_count": 4,
   "id": "13917292",
   "metadata": {},
   "outputs": [],
   "source": [
    "assert tester[5] == 5"
   ]
  },
  {
   "cell_type": "code",
   "execution_count": 5,
   "id": "336637d5",
   "metadata": {},
   "outputs": [
    {
     "ename": "AssertionError",
     "evalue": "",
     "output_type": "error",
     "traceback": [
      "\u001b[0;31m---------------------------------------------------------------------------\u001b[0m",
      "\u001b[0;31mAssertionError\u001b[0m                            Traceback (most recent call last)",
      "\u001b[0;32m/tmp/ipykernel_6230/2511302546.py\u001b[0m in \u001b[0;36m<module>\u001b[0;34m\u001b[0m\n\u001b[0;32m----> 1\u001b[0;31m \u001b[0;32massert\u001b[0m \u001b[0mtester\u001b[0m\u001b[0;34m[\u001b[0m\u001b[0;36m2\u001b[0m\u001b[0;34m]\u001b[0m \u001b[0;34m==\u001b[0m \u001b[0;36m8\u001b[0m\u001b[0;34m\u001b[0m\u001b[0;34m\u001b[0m\u001b[0m\n\u001b[0m",
      "\u001b[0;31mAssertionError\u001b[0m: "
     ]
    }
   ],
   "source": [
    "assert tester[2] == 8"
   ]
  },
  {
   "cell_type": "code",
   "execution_count": null,
   "id": "fda46441",
   "metadata": {},
   "outputs": [],
   "source": []
  }
 ],
 "metadata": {
  "kernelspec": {
   "display_name": "Python 3 (ipykernel)",
   "language": "python",
   "name": "python3"
  },
  "language_info": {
   "codemirror_mode": {
    "name": "ipython",
    "version": 3
   },
   "file_extension": ".py",
   "mimetype": "text/x-python",
   "name": "python",
   "nbconvert_exporter": "python",
   "pygments_lexer": "ipython3",
   "version": "3.9.7"
  }
 },
 "nbformat": 4,
 "nbformat_minor": 5
}
